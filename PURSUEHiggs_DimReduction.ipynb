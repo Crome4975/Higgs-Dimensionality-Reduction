{
  "cells": [
    {
      "cell_type": "markdown",
      "metadata": {
        "id": "view-in-github",
        "colab_type": "text"
      },
      "source": [
        "<a href=\"https://colab.research.google.com/github/Crome4975/Higgs-Dimensionality-Reduction/blob/main/PURSUEHiggs_DimReduction.ipynb\" target=\"_parent\"><img src=\"https://colab.research.google.com/assets/colab-badge.svg\" alt=\"Open In Colab\"/></a>"
      ]
    },
    {
      "cell_type": "markdown",
      "metadata": {
        "id": "DCbnaoQ8iIBW"
      },
      "source": [
        "### **Data obtention and preparation**"
      ]
    },
    {
      "cell_type": "markdown",
      "metadata": {
        "id": "3AcQbB7qukfU"
      },
      "source": [
        "Download the Higgs data from UC Irvine repository"
      ]
    },
    {
      "cell_type": "code",
      "execution_count": 1,
      "metadata": {
        "colab": {
          "base_uri": "https://localhost:8080/"
        },
        "id": "9SGLPkn6ukJq",
        "outputId": "b7cdea88-6737-4e1f-c388-a3544e116763"
      },
      "outputs": [
        {
          "output_type": "stream",
          "name": "stdout",
          "text": [
            "Mounted at /content/gdrive\n",
            "--2023-08-25 06:30:30--  https://archive.ics.uci.edu/ml/machine-learning-databases/00280/HIGGS.csv.gz\n",
            "Resolving archive.ics.uci.edu (archive.ics.uci.edu)... 128.195.10.252\n",
            "Connecting to archive.ics.uci.edu (archive.ics.uci.edu)|128.195.10.252|:443... connected.\n",
            "HTTP request sent, awaiting response... 200 OK\n",
            "Length: unspecified\n",
            "Saving to: ‘HIGGS2.csv.gz’\n",
            "\n",
            "HIGGS2.csv.gz           [          <=>       ]   2.62G  8.27MB/s    in 4m 50s  \n",
            "\n",
            "2023-08-25 06:35:21 (9.28 MB/s) - ‘HIGGS2.csv.gz’ saved [2816407858]\n",
            "\n"
          ]
        }
      ],
      "source": [
        "from google.colab import drive\n",
        "drive.mount('/content/gdrive')\n",
        "!wget -O HIGGS2.csv.gz https://archive.ics.uci.edu/ml/machine-learning-databases/00280/HIGGS.csv.gz"
      ]
    },
    {
      "cell_type": "markdown",
      "metadata": {
        "id": "R1DNDjjrvRUu"
      },
      "source": [
        "Unzip the data"
      ]
    },
    {
      "cell_type": "code",
      "execution_count": 2,
      "metadata": {
        "id": "QX1DAhhutFhO"
      },
      "outputs": [],
      "source": [
        " !gzip -f -d HIGGS2.csv.gz"
      ]
    },
    {
      "cell_type": "markdown",
      "metadata": {
        "id": "3fgOEqNsvVmv"
      },
      "source": [
        "Import packages"
      ]
    },
    {
      "cell_type": "code",
      "execution_count": 3,
      "metadata": {
        "id": "LXnZ5Fp6vW41"
      },
      "outputs": [],
      "source": [
        "import os\n",
        "import sys\n",
        "import sklearn\n",
        "from sklearn.model_selection import train_test_split\n",
        "import tensorflow as tf\n",
        "from tensorflow import keras\n",
        "from keras import layers\n",
        "import pandas as pd\n",
        "import numpy as np\n",
        "np.random.seed(42)  # for reproducibility\n",
        "import matplotlib.pyplot as plt"
      ]
    },
    {
      "cell_type": "markdown",
      "metadata": {
        "id": "xn4BGdkcvbQH"
      },
      "source": [
        "Load the data"
      ]
    },
    {
      "cell_type": "code",
      "execution_count": 4,
      "metadata": {
        "id": "q7NQCPFdrDwt"
      },
      "outputs": [],
      "source": [
        "data = pd.read_csv('./HIGGS2.csv')"
      ]
    },
    {
      "cell_type": "markdown",
      "metadata": {
        "id": "Zz2o2-sGib_T"
      },
      "source": [
        "### **Select between all features or low-level features only**"
      ]
    },
    {
      "cell_type": "code",
      "execution_count": 5,
      "metadata": {
        "colab": {
          "base_uri": "https://localhost:8080/"
        },
        "id": "2H2xiAQeij28",
        "outputId": "e810ccb6-4e91-4c11-e268-6cadae9f65fc"
      },
      "outputs": [
        {
          "name": "stdout",
          "output_type": "stream",
          "text": [
            "Please write 29 for all features and 22 for low-level features only: 22\n"
          ]
        }
      ],
      "source": [
        "n_features = input(\"Please write 29 for all features and 22 for low-level features only: \")\n",
        "n_features = int(n_features)"
      ]
    },
    {
      "cell_type": "markdown",
      "metadata": {
        "id": "g76wSKBQveLr"
      },
      "source": [
        "Separate labels (y) from inputs (X)"
      ]
    },
    {
      "cell_type": "code",
      "execution_count": 6,
      "metadata": {
        "colab": {
          "base_uri": "https://localhost:8080/"
        },
        "id": "yPNfOlYrvgRk",
        "outputId": "3a158552-5ec1-4b97-bddd-f15a6b7ebaee"
      },
      "outputs": [
        {
          "output_type": "stream",
          "name": "stdout",
          "text": [
            "(10999999, 21)\n"
          ]
        }
      ],
      "source": [
        "X = data.iloc[:,1:n_features]\n",
        "y = data.iloc[:,0]\n",
        "print(X.shape)"
      ]
    },
    {
      "cell_type": "markdown",
      "metadata": {
        "id": "0w-cxWJlvj7V"
      },
      "source": [
        "Select size of dataset"
      ]
    },
    {
      "cell_type": "code",
      "execution_count": 7,
      "metadata": {
        "id": "V4ua_XYBvo0B"
      },
      "outputs": [],
      "source": [
        "X = X[:2500000]\n",
        "y = y[:2500000]"
      ]
    },
    {
      "cell_type": "markdown",
      "source": [
        "### **Select which features to drop**\n"
      ],
      "metadata": {
        "id": "AbnDeGjNXEJ2"
      }
    },
    {
      "cell_type": "markdown",
      "source": [
        "The first 21 features are low-level, and the last 7 are high-level, in the following order:"
      ],
      "metadata": {
        "id": "y6tdOREAXVCz"
      }
    },
    {
      "cell_type": "markdown",
      "source": [
        "names = [\"lepton pT\", \"lepton eta\", \"lepton phi\", \"missing energy magnitude\",\n",
        "\"missing energy phi\", \"jet 1 pt\", \"jet 1 eta\", \"jet 1 phi\", \"jet 1 b-tag\",\n",
        "\"jet 2 pt\", \"jet 2 eta\",\"jet 2 phi\", \"jet 2 b-tag\", \"jet 3 pt\", \"jet 3 eta\",\n",
        "\"jet 3 phi\", \"jet 3 b-tag\", \"jet 4 pt\", \"jet 4 eta\", \"jet 4 phi\", \"jet 4 b-tag\",\n",
        "\"m_jj\", \"m_jjj\", \"m_lv\", \"m_jlv\", \"m_bb\", \"m_wbb\", \"m_wwbb\"]"
      ],
      "metadata": {
        "id": "KGskQ-uhXdWe"
      }
    },
    {
      "cell_type": "markdown",
      "source": [
        "If we were to drop the b-tags from the jets 2 and 4, we would do the following:"
      ],
      "metadata": {
        "id": "8aIBcR4XXiYJ"
      }
    },
    {
      "cell_type": "code",
      "source": [
        "X = X.drop(X.columns[[12, 20]], axis=1)"
      ],
      "metadata": {
        "id": "yP6v-u4EXDQh"
      },
      "execution_count": 8,
      "outputs": []
    },
    {
      "cell_type": "markdown",
      "source": [
        "Please adjust the previous code to the features you would like to remove"
      ],
      "metadata": {
        "id": "i8VFucTgXpPU"
      }
    },
    {
      "cell_type": "markdown",
      "metadata": {
        "id": "g5y_piFjhdh-"
      },
      "source": [
        "### **Select between PCA and Autoencoder**\n",
        "\n"
      ]
    },
    {
      "cell_type": "code",
      "execution_count": 9,
      "metadata": {
        "colab": {
          "base_uri": "https://localhost:8080/"
        },
        "id": "2p1YQJj8hvTI",
        "outputId": "1aed909a-4e87-471f-e1b2-e5aa691e98be"
      },
      "outputs": [
        {
          "name": "stdout",
          "output_type": "stream",
          "text": [
            "Please write Autoencoder or PCA: None\n"
          ]
        }
      ],
      "source": [
        "method = input(\"Please write Autoencoder or PCA: \")"
      ]
    },
    {
      "cell_type": "markdown",
      "metadata": {
        "id": "gXiLAeDmhjd0"
      },
      "source": [
        "### **Select expected dimensions**"
      ]
    },
    {
      "cell_type": "code",
      "execution_count": 10,
      "metadata": {
        "colab": {
          "base_uri": "https://localhost:8080/"
        },
        "id": "DJuoaozwh2vD",
        "outputId": "f1601033-79a6-4076-8236-0dd5648f8b9f"
      },
      "outputs": [
        {
          "name": "stdout",
          "output_type": "stream",
          "text": [
            "Please select the expected dimensions (<28): 19\n"
          ]
        }
      ],
      "source": [
        "latent_dim = input(\"Please select the expected dimensions (<28): \")\n",
        "latent_dim = int(latent_dim)"
      ]
    },
    {
      "cell_type": "markdown",
      "metadata": {
        "id": "m8WZTkcpjVa_"
      },
      "source": [
        "### **Perform dimensionality reduction with selected method**"
      ]
    },
    {
      "cell_type": "code",
      "execution_count": 11,
      "metadata": {
        "id": "wsZs4_pCjeOJ"
      },
      "outputs": [],
      "source": [
        "if method == \"Autoencoder\":\n",
        "  np.random.seed(42)\n",
        "  tf.random.set_seed(42)\n",
        "  #Create training, validation, and test datasets\n",
        "\n",
        "  X_train, X_val1, y_train, y_val1 = train_test_split(X, y, test_size=0.2, random_state=42)\n",
        "  X_val, X_test, y_val, y_test = train_test_split(X_val1, y_val1, test_size=0.5, random_state=42)\n",
        "  del X\n",
        "  del y\n",
        "  del X_val1\n",
        "  del y_val1\n",
        "\n",
        "  # Dimension of dataset\n",
        "  original_dimension = X_train.shape[1]\n",
        "\n",
        "  #Encoder component\n",
        "\n",
        "  encoder = keras.models.Sequential(\n",
        "      [\n",
        "      keras.layers.Dense(128, input_shape=(original_dimension,), activation= 'relu'),\n",
        "      keras.layers.Dense(128, activation= 'relu'),\n",
        "      keras.layers.Dense(latent_dim, name= 'encoding_layer') #Encoding Layer\n",
        "      ]\n",
        "  )\n",
        "\n",
        "  #Decoder Component\n",
        "\n",
        "  decoder = keras.models.Sequential(\n",
        "      [\n",
        "      keras.layers.Dense(128, name= '3rd_hidden_layer', input_shape=(latent_dim,), activation= 'relu'),\n",
        "      keras.layers.Dense(128, activation= 'relu'),\n",
        "      keras.layers.Dense(original_dimension, name= 'output_layer')\n",
        "      ]\n",
        "  )\n",
        "\n",
        "  #Create autoencoder\n",
        "\n",
        "  encoder_decoder_model= keras.Model(\n",
        "      inputs = encoder.inputs,\n",
        "      outputs = decoder(encoder.outputs)\n",
        "  )\n",
        "  #Compiling the model\n",
        "\n",
        "  encoder_decoder_model.compile(\n",
        "      loss= 'mse',\n",
        "      optimizer= 'adam',\n",
        "      metrics= 'mse'\n",
        "  )\n",
        "  # Train the autoencoder\n",
        "\n",
        "  model_history= encoder_decoder_model.fit(X_train[y_train==1], X_train[y_train==1], validation_data=(X_val[y_val==1],X_val[y_val==1]),epochs = 50, batch_size = 128)\n",
        "\n",
        "  #Generate codings\n",
        "\n",
        "  codings_train = encoder.predict(X_train)\n",
        "  codings_valid = encoder.predict(X_val)\n",
        "  codings_test = encoder.predict(X_test)\n",
        "  print(codings_train.shape)\n",
        "  print(codings_valid.shape)\n",
        "  print(codings_test.shape)\n",
        "\n",
        "  #Save the encoder\n",
        "\n",
        "  encoder.save('encoder_name.h5')\n",
        "\n",
        "elif method == \"PCA\":\n",
        "\n",
        "  #Scale the data\n",
        "\n",
        "  from sklearn.preprocessing import StandardScaler\n",
        "  scaler = StandardScaler()\n",
        "  X = scaler.fit_transform(X)\n",
        "\n",
        "  #Create training, validation, and test datasets\n",
        "\n",
        "  X_train, X_val1, y_train, y_val1 = train_test_split(X, y, test_size=0.2, random_state=42)\n",
        "  X_val, X_test, y_val, y_test = train_test_split(X_val1, y_val1, test_size=0.5, random_state=42)\n",
        "  del X\n",
        "  del y\n",
        "  del X_val1\n",
        "  del y_val1\n",
        "\n",
        "  #Perform PCA\n",
        "\n",
        "  from sklearn.decomposition import PCA\n",
        "\n",
        "  pca = PCA(n_components = latent_dim)\n",
        "  newX = pca.fit_transform(X_train[y_train == 1])\n",
        "  X_train = pca.transform(X_train)\n",
        "  X_val = pca.transform(X_val)\n",
        "  X_test = pca.transform(X_test)\n",
        "  print(X_train.shape)\n",
        "  print(X_val.shape)\n",
        "  print(X_test.shape)\n",
        "\n",
        "  #StandardScaler the data after PCA\n",
        "\n",
        "  scaler = StandardScaler()\n",
        "  codings_train = scaler.fit_transform(X_train)\n",
        "  codings_valid = scaler.fit_transform(X_val)\n",
        "  codings_test = scaler.fit_transform(X_test)\n",
        "\n",
        "  #Check if components are scaled with std = 1\n",
        "\n",
        "  import matplotlib.pyplot as plt\n",
        "  for i in range(latent_dim):\n",
        "    plt.hist(X_train[:,i], bins=30, label='mean: %.3f; std: %.3f' %(np.mean(codings_train[:,i]), np.std(codings_train[:,i])))\n",
        "    plt.title(\"PC\"+str(i+1))\n",
        "    plt.xlabel(\"PC\"+str(i+1))\n",
        "    plt.ylabel(\"number of events\")\n",
        "    plt.legend()\n",
        "    plt.show()\n",
        "else:\n",
        "    X_train, X_val1, y_train, y_val1 = train_test_split(X, y, test_size=0.2, random_state=42)\n",
        "    X_val, X_test, y_val, y_test = train_test_split(X_val1, y_val1, test_size=0.5, random_state=42)\n",
        "    del X\n",
        "    del y\n",
        "    del X_val1\n",
        "    del y_val1\n",
        "    codings_train = X_train\n",
        "    codings_valid = X_val\n",
        "    codings_test = X_test"
      ]
    },
    {
      "cell_type": "markdown",
      "metadata": {
        "id": "Hh2PBTE3P6kV"
      },
      "source": [
        "### **Create the model**"
      ]
    },
    {
      "cell_type": "code",
      "execution_count": 12,
      "metadata": {
        "id": "wEDP5OVxP92R"
      },
      "outputs": [],
      "source": [
        "lr_scheduler = keras.callbacks.ReduceLROnPlateau(factor=0.5, patience=5)\n",
        "checkpoint_cb = keras.callbacks.ModelCheckpoint(\"nojets2and4.h5\", save_best_only=True)\n",
        "model = keras.models.Sequential()\n",
        "\n",
        "model.add(keras.layers.Dense(300, activation=\"leaky_relu\",\n",
        "                             input_dim=(codings_train.shape[1]),\n",
        "                             kernel_initializer=\"he_normal\"))\n",
        "model.add(layers.Dropout(0.15))\n",
        "model.add(keras.layers.Dense(300, activation=\"leaky_relu\",\n",
        "                             kernel_initializer=\"he_normal\"))\n",
        "model.add(layers.Dropout(0.15))\n",
        "model.add(keras.layers.Dense(300, activation=\"leaky_relu\",\n",
        "                             kernel_initializer=\"he_normal\"))\n",
        "model.add(layers.Dropout(0.15))\n",
        "model.add(keras.layers.Dense(300, activation=\"leaky_relu\",\n",
        "                             kernel_initializer=\"he_normal\"))\n",
        "model.add(layers.Dropout(0.15))\n",
        "model.add(keras.layers.Dense(300, activation=\"leaky_relu\",\n",
        "                             kernel_initializer=\"he_normal\"))\n",
        "model.add(layers.Dropout(0.15))\n",
        "model.add(keras.layers.Dense(1, activation=\"sigmoid\"))"
      ]
    },
    {
      "cell_type": "markdown",
      "metadata": {
        "id": "LCoBUIZ9QOyp"
      },
      "source": [
        "Compile the model"
      ]
    },
    {
      "cell_type": "code",
      "execution_count": 13,
      "metadata": {
        "id": "xJaPT3JcQRbO"
      },
      "outputs": [],
      "source": [
        "model.compile(loss=\"binary_crossentropy\",\n",
        "              optimizer=keras.optimizers.SGD(learning_rate=0.05, momentum = 0.9, nesterov = True),\n",
        "              metrics=[\"accuracy\"])"
      ]
    },
    {
      "cell_type": "markdown",
      "metadata": {
        "id": "ieaR3ctiQWtL"
      },
      "source": [
        "Train the model"
      ]
    },
    {
      "cell_type": "code",
      "execution_count": 14,
      "metadata": {
        "colab": {
          "base_uri": "https://localhost:8080/"
        },
        "id": "AKZbrevAQThS",
        "outputId": "06349ba7-8862-4675-de2d-97552c2db9f2"
      },
      "outputs": [
        {
          "output_type": "stream",
          "name": "stdout",
          "text": [
            "Epoch 1/120\n",
            "15625/15625 [==============================] - 71s 4ms/step - loss: 0.6527 - accuracy: 0.6089 - val_loss: 0.6255 - val_accuracy: 0.6457 - lr: 0.0500\n",
            "Epoch 2/120\n",
            "15625/15625 [==============================] - 61s 4ms/step - loss: 0.6268 - accuracy: 0.6453 - val_loss: 0.6093 - val_accuracy: 0.6640 - lr: 0.0500\n",
            "Epoch 3/120\n",
            "15625/15625 [==============================] - 61s 4ms/step - loss: 0.6163 - accuracy: 0.6581 - val_loss: 0.6038 - val_accuracy: 0.6723 - lr: 0.0500\n",
            "Epoch 4/120\n",
            "15625/15625 [==============================] - 61s 4ms/step - loss: 0.6109 - accuracy: 0.6639 - val_loss: 0.5950 - val_accuracy: 0.6787 - lr: 0.0500\n",
            "Epoch 5/120\n",
            "15625/15625 [==============================] - 65s 4ms/step - loss: 0.6074 - accuracy: 0.6677 - val_loss: 0.5935 - val_accuracy: 0.6812 - lr: 0.0500\n",
            "Epoch 6/120\n",
            "15625/15625 [==============================] - 64s 4ms/step - loss: 0.6047 - accuracy: 0.6706 - val_loss: 0.5944 - val_accuracy: 0.6797 - lr: 0.0500\n",
            "Epoch 7/120\n",
            "15625/15625 [==============================] - 64s 4ms/step - loss: 0.6027 - accuracy: 0.6723 - val_loss: 0.5863 - val_accuracy: 0.6860 - lr: 0.0500\n",
            "Epoch 8/120\n",
            "15625/15625 [==============================] - 63s 4ms/step - loss: 0.6008 - accuracy: 0.6745 - val_loss: 0.5844 - val_accuracy: 0.6883 - lr: 0.0500\n",
            "Epoch 9/120\n",
            "15625/15625 [==============================] - 64s 4ms/step - loss: 0.5995 - accuracy: 0.6757 - val_loss: 0.5828 - val_accuracy: 0.6917 - lr: 0.0500\n",
            "Epoch 10/120\n",
            "15625/15625 [==============================] - 63s 4ms/step - loss: 0.5971 - accuracy: 0.6781 - val_loss: 0.5809 - val_accuracy: 0.6926 - lr: 0.0500\n",
            "Epoch 11/120\n",
            "15625/15625 [==============================] - 62s 4ms/step - loss: 0.5955 - accuracy: 0.6797 - val_loss: 0.5822 - val_accuracy: 0.6919 - lr: 0.0500\n",
            "Epoch 12/120\n",
            "15625/15625 [==============================] - 62s 4ms/step - loss: 0.5940 - accuracy: 0.6815 - val_loss: 0.5875 - val_accuracy: 0.6919 - lr: 0.0500\n",
            "Epoch 13/120\n",
            "15625/15625 [==============================] - 63s 4ms/step - loss: 0.5924 - accuracy: 0.6826 - val_loss: 0.5740 - val_accuracy: 0.6981 - lr: 0.0500\n",
            "Epoch 14/120\n",
            "15625/15625 [==============================] - 62s 4ms/step - loss: 0.5910 - accuracy: 0.6840 - val_loss: 0.5756 - val_accuracy: 0.6982 - lr: 0.0500\n",
            "Epoch 15/120\n",
            "15625/15625 [==============================] - 64s 4ms/step - loss: 0.5896 - accuracy: 0.6854 - val_loss: 0.5726 - val_accuracy: 0.7012 - lr: 0.0500\n",
            "Epoch 16/120\n",
            "15625/15625 [==============================] - 61s 4ms/step - loss: 0.5881 - accuracy: 0.6867 - val_loss: 0.5693 - val_accuracy: 0.7024 - lr: 0.0500\n",
            "Epoch 17/120\n",
            "15625/15625 [==============================] - 62s 4ms/step - loss: 0.5873 - accuracy: 0.6874 - val_loss: 0.5659 - val_accuracy: 0.7045 - lr: 0.0500\n",
            "Epoch 18/120\n",
            "15625/15625 [==============================] - 61s 4ms/step - loss: 0.5861 - accuracy: 0.6887 - val_loss: 0.5698 - val_accuracy: 0.7054 - lr: 0.0500\n",
            "Epoch 19/120\n",
            "15625/15625 [==============================] - 64s 4ms/step - loss: 0.5856 - accuracy: 0.6896 - val_loss: 0.5630 - val_accuracy: 0.7053 - lr: 0.0500\n",
            "Epoch 20/120\n",
            "15625/15625 [==============================] - 64s 4ms/step - loss: 0.5843 - accuracy: 0.6903 - val_loss: 0.5652 - val_accuracy: 0.7058 - lr: 0.0500\n",
            "Epoch 21/120\n",
            "15625/15625 [==============================] - 63s 4ms/step - loss: 0.5841 - accuracy: 0.6906 - val_loss: 0.5674 - val_accuracy: 0.7050 - lr: 0.0500\n",
            "Epoch 22/120\n",
            "15625/15625 [==============================] - 66s 4ms/step - loss: 0.5834 - accuracy: 0.6910 - val_loss: 0.5700 - val_accuracy: 0.7058 - lr: 0.0500\n",
            "Epoch 23/120\n",
            "15625/15625 [==============================] - 64s 4ms/step - loss: 0.5829 - accuracy: 0.6915 - val_loss: 0.5628 - val_accuracy: 0.7079 - lr: 0.0500\n",
            "Epoch 24/120\n",
            "15625/15625 [==============================] - 64s 4ms/step - loss: 0.5823 - accuracy: 0.6922 - val_loss: 0.5631 - val_accuracy: 0.7087 - lr: 0.0500\n",
            "Epoch 25/120\n",
            "15625/15625 [==============================] - 65s 4ms/step - loss: 0.5818 - accuracy: 0.6926 - val_loss: 0.5704 - val_accuracy: 0.6998 - lr: 0.0500\n",
            "Epoch 26/120\n",
            "15625/15625 [==============================] - 66s 4ms/step - loss: 0.5818 - accuracy: 0.6923 - val_loss: 0.5586 - val_accuracy: 0.7116 - lr: 0.0500\n",
            "Epoch 27/120\n",
            "15625/15625 [==============================] - 64s 4ms/step - loss: 0.5812 - accuracy: 0.6932 - val_loss: 0.5620 - val_accuracy: 0.7100 - lr: 0.0500\n",
            "Epoch 28/120\n",
            "15625/15625 [==============================] - 65s 4ms/step - loss: 0.5805 - accuracy: 0.6935 - val_loss: 0.5634 - val_accuracy: 0.7074 - lr: 0.0500\n",
            "Epoch 29/120\n",
            "15625/15625 [==============================] - 64s 4ms/step - loss: 0.5808 - accuracy: 0.6937 - val_loss: 0.5594 - val_accuracy: 0.7114 - lr: 0.0500\n",
            "Epoch 30/120\n",
            "15625/15625 [==============================] - 62s 4ms/step - loss: 0.5805 - accuracy: 0.6936 - val_loss: 0.5668 - val_accuracy: 0.7059 - lr: 0.0500\n",
            "Epoch 31/120\n",
            "15625/15625 [==============================] - 61s 4ms/step - loss: 0.5801 - accuracy: 0.6943 - val_loss: 0.5602 - val_accuracy: 0.7117 - lr: 0.0500\n",
            "Epoch 32/120\n",
            "15625/15625 [==============================] - 65s 4ms/step - loss: 0.5713 - accuracy: 0.7008 - val_loss: 0.5521 - val_accuracy: 0.7177 - lr: 0.0250\n",
            "Epoch 33/120\n",
            "15625/15625 [==============================] - 63s 4ms/step - loss: 0.5701 - accuracy: 0.7018 - val_loss: 0.5491 - val_accuracy: 0.7170 - lr: 0.0250\n",
            "Epoch 34/120\n",
            "15625/15625 [==============================] - 61s 4ms/step - loss: 0.5694 - accuracy: 0.7021 - val_loss: 0.5494 - val_accuracy: 0.7175 - lr: 0.0250\n",
            "Epoch 35/120\n",
            "15625/15625 [==============================] - 66s 4ms/step - loss: 0.5691 - accuracy: 0.7024 - val_loss: 0.5586 - val_accuracy: 0.7140 - lr: 0.0250\n",
            "Epoch 36/120\n",
            "15625/15625 [==============================] - 64s 4ms/step - loss: 0.5688 - accuracy: 0.7029 - val_loss: 0.5459 - val_accuracy: 0.7189 - lr: 0.0250\n",
            "Epoch 37/120\n",
            "15625/15625 [==============================] - 63s 4ms/step - loss: 0.5686 - accuracy: 0.7033 - val_loss: 0.5481 - val_accuracy: 0.7187 - lr: 0.0250\n",
            "Epoch 38/120\n",
            "15625/15625 [==============================] - 65s 4ms/step - loss: 0.5686 - accuracy: 0.7024 - val_loss: 0.5482 - val_accuracy: 0.7191 - lr: 0.0250\n",
            "Epoch 39/120\n",
            "15625/15625 [==============================] - 64s 4ms/step - loss: 0.5682 - accuracy: 0.7034 - val_loss: 0.5501 - val_accuracy: 0.7192 - lr: 0.0250\n",
            "Epoch 40/120\n",
            "15625/15625 [==============================] - 62s 4ms/step - loss: 0.5681 - accuracy: 0.7035 - val_loss: 0.5476 - val_accuracy: 0.7203 - lr: 0.0250\n",
            "Epoch 41/120\n",
            "15625/15625 [==============================] - 64s 4ms/step - loss: 0.5679 - accuracy: 0.7040 - val_loss: 0.5477 - val_accuracy: 0.7191 - lr: 0.0250\n",
            "Epoch 42/120\n",
            "15625/15625 [==============================] - 63s 4ms/step - loss: 0.5627 - accuracy: 0.7072 - val_loss: 0.5437 - val_accuracy: 0.7226 - lr: 0.0125\n",
            "Epoch 43/120\n",
            "15625/15625 [==============================] - 62s 4ms/step - loss: 0.5621 - accuracy: 0.7080 - val_loss: 0.5421 - val_accuracy: 0.7230 - lr: 0.0125\n",
            "Epoch 44/120\n",
            "15625/15625 [==============================] - 63s 4ms/step - loss: 0.5618 - accuracy: 0.7078 - val_loss: 0.5420 - val_accuracy: 0.7243 - lr: 0.0125\n",
            "Epoch 45/120\n",
            "15625/15625 [==============================] - 65s 4ms/step - loss: 0.5614 - accuracy: 0.7083 - val_loss: 0.5427 - val_accuracy: 0.7235 - lr: 0.0125\n",
            "Epoch 46/120\n",
            "15625/15625 [==============================] - 62s 4ms/step - loss: 0.5612 - accuracy: 0.7086 - val_loss: 0.5436 - val_accuracy: 0.7230 - lr: 0.0125\n",
            "Epoch 47/120\n",
            "15625/15625 [==============================] - 62s 4ms/step - loss: 0.5613 - accuracy: 0.7085 - val_loss: 0.5401 - val_accuracy: 0.7249 - lr: 0.0125\n",
            "Epoch 48/120\n",
            "15625/15625 [==============================] - 66s 4ms/step - loss: 0.5609 - accuracy: 0.7087 - val_loss: 0.5398 - val_accuracy: 0.7250 - lr: 0.0125\n",
            "Epoch 49/120\n",
            "15625/15625 [==============================] - 61s 4ms/step - loss: 0.5607 - accuracy: 0.7088 - val_loss: 0.5407 - val_accuracy: 0.7245 - lr: 0.0125\n",
            "Epoch 50/120\n",
            "15625/15625 [==============================] - 63s 4ms/step - loss: 0.5606 - accuracy: 0.7086 - val_loss: 0.5398 - val_accuracy: 0.7242 - lr: 0.0125\n",
            "Epoch 51/120\n",
            "15625/15625 [==============================] - 63s 4ms/step - loss: 0.5605 - accuracy: 0.7089 - val_loss: 0.5390 - val_accuracy: 0.7243 - lr: 0.0125\n",
            "Epoch 52/120\n",
            "15625/15625 [==============================] - 62s 4ms/step - loss: 0.5604 - accuracy: 0.7090 - val_loss: 0.5416 - val_accuracy: 0.7255 - lr: 0.0125\n",
            "Epoch 53/120\n",
            "15625/15625 [==============================] - 62s 4ms/step - loss: 0.5604 - accuracy: 0.7090 - val_loss: 0.5427 - val_accuracy: 0.7261 - lr: 0.0125\n",
            "Epoch 54/120\n",
            "15625/15625 [==============================] - 63s 4ms/step - loss: 0.5604 - accuracy: 0.7088 - val_loss: 0.5406 - val_accuracy: 0.7249 - lr: 0.0125\n",
            "Epoch 55/120\n",
            "15625/15625 [==============================] - 65s 4ms/step - loss: 0.5602 - accuracy: 0.7090 - val_loss: 0.5426 - val_accuracy: 0.7266 - lr: 0.0125\n",
            "Epoch 56/120\n",
            "15625/15625 [==============================] - 62s 4ms/step - loss: 0.5598 - accuracy: 0.7096 - val_loss: 0.5420 - val_accuracy: 0.7264 - lr: 0.0125\n",
            "Epoch 57/120\n",
            "15625/15625 [==============================] - 62s 4ms/step - loss: 0.5568 - accuracy: 0.7115 - val_loss: 0.5370 - val_accuracy: 0.7269 - lr: 0.0063\n",
            "Epoch 58/120\n",
            "15625/15625 [==============================] - 63s 4ms/step - loss: 0.5566 - accuracy: 0.7115 - val_loss: 0.5361 - val_accuracy: 0.7274 - lr: 0.0063\n",
            "Epoch 59/120\n",
            "15625/15625 [==============================] - 60s 4ms/step - loss: 0.5562 - accuracy: 0.7122 - val_loss: 0.5361 - val_accuracy: 0.7274 - lr: 0.0063\n",
            "Epoch 60/120\n",
            "15625/15625 [==============================] - 62s 4ms/step - loss: 0.5565 - accuracy: 0.7116 - val_loss: 0.5367 - val_accuracy: 0.7272 - lr: 0.0063\n",
            "Epoch 61/120\n",
            "15625/15625 [==============================] - 60s 4ms/step - loss: 0.5561 - accuracy: 0.7121 - val_loss: 0.5367 - val_accuracy: 0.7280 - lr: 0.0063\n",
            "Epoch 62/120\n",
            "15625/15625 [==============================] - 64s 4ms/step - loss: 0.5563 - accuracy: 0.7120 - val_loss: 0.5361 - val_accuracy: 0.7287 - lr: 0.0063\n",
            "Epoch 63/120\n",
            "15625/15625 [==============================] - 62s 4ms/step - loss: 0.5560 - accuracy: 0.7125 - val_loss: 0.5368 - val_accuracy: 0.7278 - lr: 0.0063\n",
            "Epoch 64/120\n",
            "15625/15625 [==============================] - 62s 4ms/step - loss: 0.5541 - accuracy: 0.7136 - val_loss: 0.5352 - val_accuracy: 0.7291 - lr: 0.0031\n",
            "Epoch 65/120\n",
            "15625/15625 [==============================] - 63s 4ms/step - loss: 0.5543 - accuracy: 0.7130 - val_loss: 0.5343 - val_accuracy: 0.7292 - lr: 0.0031\n",
            "Epoch 66/120\n",
            "15625/15625 [==============================] - 62s 4ms/step - loss: 0.5541 - accuracy: 0.7135 - val_loss: 0.5347 - val_accuracy: 0.7298 - lr: 0.0031\n",
            "Epoch 67/120\n",
            "15625/15625 [==============================] - 62s 4ms/step - loss: 0.5540 - accuracy: 0.7137 - val_loss: 0.5353 - val_accuracy: 0.7296 - lr: 0.0031\n",
            "Epoch 68/120\n",
            "15625/15625 [==============================] - 62s 4ms/step - loss: 0.5539 - accuracy: 0.7135 - val_loss: 0.5354 - val_accuracy: 0.7287 - lr: 0.0031\n",
            "Epoch 69/120\n",
            "15625/15625 [==============================] - 64s 4ms/step - loss: 0.5539 - accuracy: 0.7136 - val_loss: 0.5347 - val_accuracy: 0.7292 - lr: 0.0031\n",
            "Epoch 70/120\n",
            "15625/15625 [==============================] - 63s 4ms/step - loss: 0.5536 - accuracy: 0.7140 - val_loss: 0.5336 - val_accuracy: 0.7298 - lr: 0.0031\n",
            "Epoch 71/120\n",
            "15625/15625 [==============================] - 62s 4ms/step - loss: 0.5537 - accuracy: 0.7136 - val_loss: 0.5349 - val_accuracy: 0.7301 - lr: 0.0031\n",
            "Epoch 72/120\n",
            "15625/15625 [==============================] - 65s 4ms/step - loss: 0.5536 - accuracy: 0.7141 - val_loss: 0.5337 - val_accuracy: 0.7296 - lr: 0.0031\n",
            "Epoch 73/120\n",
            "15625/15625 [==============================] - 63s 4ms/step - loss: 0.5536 - accuracy: 0.7140 - val_loss: 0.5342 - val_accuracy: 0.7300 - lr: 0.0031\n",
            "Epoch 74/120\n",
            "15625/15625 [==============================] - 63s 4ms/step - loss: 0.5535 - accuracy: 0.7141 - val_loss: 0.5354 - val_accuracy: 0.7300 - lr: 0.0031\n",
            "Epoch 75/120\n",
            "15625/15625 [==============================] - 64s 4ms/step - loss: 0.5536 - accuracy: 0.7141 - val_loss: 0.5344 - val_accuracy: 0.7295 - lr: 0.0031\n",
            "Epoch 76/120\n",
            "15625/15625 [==============================] - 63s 4ms/step - loss: 0.5525 - accuracy: 0.7147 - val_loss: 0.5333 - val_accuracy: 0.7302 - lr: 0.0016\n",
            "Epoch 77/120\n",
            "15625/15625 [==============================] - 62s 4ms/step - loss: 0.5523 - accuracy: 0.7148 - val_loss: 0.5331 - val_accuracy: 0.7303 - lr: 0.0016\n",
            "Epoch 78/120\n",
            "15625/15625 [==============================] - 64s 4ms/step - loss: 0.5524 - accuracy: 0.7146 - val_loss: 0.5336 - val_accuracy: 0.7305 - lr: 0.0016\n",
            "Epoch 79/120\n",
            "15625/15625 [==============================] - 64s 4ms/step - loss: 0.5523 - accuracy: 0.7151 - val_loss: 0.5326 - val_accuracy: 0.7306 - lr: 0.0016\n",
            "Epoch 80/120\n",
            "15625/15625 [==============================] - 62s 4ms/step - loss: 0.5524 - accuracy: 0.7149 - val_loss: 0.5328 - val_accuracy: 0.7307 - lr: 0.0016\n",
            "Epoch 81/120\n",
            "15625/15625 [==============================] - 64s 4ms/step - loss: 0.5522 - accuracy: 0.7148 - val_loss: 0.5335 - val_accuracy: 0.7303 - lr: 0.0016\n",
            "Epoch 82/120\n",
            "15625/15625 [==============================] - 68s 4ms/step - loss: 0.5524 - accuracy: 0.7147 - val_loss: 0.5344 - val_accuracy: 0.7304 - lr: 0.0016\n",
            "Epoch 83/120\n",
            "15625/15625 [==============================] - 62s 4ms/step - loss: 0.5523 - accuracy: 0.7148 - val_loss: 0.5333 - val_accuracy: 0.7305 - lr: 0.0016\n",
            "Epoch 84/120\n",
            "15625/15625 [==============================] - 63s 4ms/step - loss: 0.5522 - accuracy: 0.7149 - val_loss: 0.5327 - val_accuracy: 0.7309 - lr: 0.0016\n",
            "Epoch 85/120\n",
            "15625/15625 [==============================] - 62s 4ms/step - loss: 0.5515 - accuracy: 0.7153 - val_loss: 0.5324 - val_accuracy: 0.7309 - lr: 7.8125e-04\n",
            "Epoch 86/120\n",
            "15625/15625 [==============================] - 63s 4ms/step - loss: 0.5516 - accuracy: 0.7158 - val_loss: 0.5325 - val_accuracy: 0.7308 - lr: 7.8125e-04\n",
            "Epoch 87/120\n",
            "15625/15625 [==============================] - 63s 4ms/step - loss: 0.5516 - accuracy: 0.7153 - val_loss: 0.5333 - val_accuracy: 0.7305 - lr: 7.8125e-04\n",
            "Epoch 88/120\n",
            "15625/15625 [==============================] - 62s 4ms/step - loss: 0.5514 - accuracy: 0.7153 - val_loss: 0.5326 - val_accuracy: 0.7308 - lr: 7.8125e-04\n",
            "Epoch 89/120\n",
            "15625/15625 [==============================] - 63s 4ms/step - loss: 0.5517 - accuracy: 0.7153 - val_loss: 0.5336 - val_accuracy: 0.7304 - lr: 7.8125e-04\n",
            "Epoch 90/120\n",
            "15625/15625 [==============================] - 62s 4ms/step - loss: 0.5516 - accuracy: 0.7155 - val_loss: 0.5326 - val_accuracy: 0.7310 - lr: 7.8125e-04\n",
            "Epoch 91/120\n",
            "15625/15625 [==============================] - 63s 4ms/step - loss: 0.5514 - accuracy: 0.7153 - val_loss: 0.5328 - val_accuracy: 0.7312 - lr: 3.9063e-04\n",
            "Epoch 92/120\n",
            "15625/15625 [==============================] - 62s 4ms/step - loss: 0.5513 - accuracy: 0.7156 - val_loss: 0.5320 - val_accuracy: 0.7310 - lr: 3.9063e-04\n",
            "Epoch 93/120\n",
            "15625/15625 [==============================] - 65s 4ms/step - loss: 0.5514 - accuracy: 0.7153 - val_loss: 0.5324 - val_accuracy: 0.7313 - lr: 3.9063e-04\n",
            "Epoch 94/120\n",
            "15625/15625 [==============================] - 61s 4ms/step - loss: 0.5516 - accuracy: 0.7152 - val_loss: 0.5329 - val_accuracy: 0.7315 - lr: 3.9063e-04\n",
            "Epoch 95/120\n",
            "15625/15625 [==============================] - 62s 4ms/step - loss: 0.5512 - accuracy: 0.7154 - val_loss: 0.5328 - val_accuracy: 0.7313 - lr: 3.9063e-04\n",
            "Epoch 96/120\n",
            "15625/15625 [==============================] - 64s 4ms/step - loss: 0.5513 - accuracy: 0.7155 - val_loss: 0.5326 - val_accuracy: 0.7311 - lr: 3.9063e-04\n",
            "Epoch 97/120\n",
            "15625/15625 [==============================] - 61s 4ms/step - loss: 0.5513 - accuracy: 0.7153 - val_loss: 0.5326 - val_accuracy: 0.7311 - lr: 3.9063e-04\n",
            "Epoch 98/120\n",
            "15625/15625 [==============================] - 63s 4ms/step - loss: 0.5510 - accuracy: 0.7156 - val_loss: 0.5322 - val_accuracy: 0.7310 - lr: 1.9531e-04\n",
            "Epoch 99/120\n",
            "15625/15625 [==============================] - 63s 4ms/step - loss: 0.5513 - accuracy: 0.7158 - val_loss: 0.5321 - val_accuracy: 0.7312 - lr: 1.9531e-04\n",
            "Epoch 100/120\n",
            "15625/15625 [==============================] - 61s 4ms/step - loss: 0.5514 - accuracy: 0.7155 - val_loss: 0.5324 - val_accuracy: 0.7314 - lr: 1.9531e-04\n",
            "Epoch 101/120\n",
            "15625/15625 [==============================] - 62s 4ms/step - loss: 0.5512 - accuracy: 0.7156 - val_loss: 0.5323 - val_accuracy: 0.7313 - lr: 1.9531e-04\n",
            "Epoch 102/120\n",
            "15625/15625 [==============================] - 62s 4ms/step - loss: 0.5510 - accuracy: 0.7159 - val_loss: 0.5320 - val_accuracy: 0.7314 - lr: 1.9531e-04\n",
            "Epoch 103/120\n",
            "15625/15625 [==============================] - 65s 4ms/step - loss: 0.5510 - accuracy: 0.7158 - val_loss: 0.5322 - val_accuracy: 0.7313 - lr: 9.7656e-05\n",
            "Epoch 104/120\n",
            "15625/15625 [==============================] - 63s 4ms/step - loss: 0.5511 - accuracy: 0.7156 - val_loss: 0.5324 - val_accuracy: 0.7313 - lr: 9.7656e-05\n",
            "Epoch 105/120\n",
            "15625/15625 [==============================] - 63s 4ms/step - loss: 0.5513 - accuracy: 0.7157 - val_loss: 0.5322 - val_accuracy: 0.7313 - lr: 9.7656e-05\n",
            "Epoch 106/120\n",
            "15625/15625 [==============================] - 66s 4ms/step - loss: 0.5509 - accuracy: 0.7158 - val_loss: 0.5322 - val_accuracy: 0.7313 - lr: 9.7656e-05\n",
            "Epoch 107/120\n",
            "15625/15625 [==============================] - 64s 4ms/step - loss: 0.5509 - accuracy: 0.7156 - val_loss: 0.5321 - val_accuracy: 0.7311 - lr: 9.7656e-05\n",
            "Epoch 108/120\n",
            "15625/15625 [==============================] - 61s 4ms/step - loss: 0.5508 - accuracy: 0.7156 - val_loss: 0.5322 - val_accuracy: 0.7313 - lr: 4.8828e-05\n",
            "Epoch 109/120\n",
            "15625/15625 [==============================] - 69s 4ms/step - loss: 0.5513 - accuracy: 0.7156 - val_loss: 0.5323 - val_accuracy: 0.7312 - lr: 4.8828e-05\n",
            "Epoch 110/120\n",
            "15625/15625 [==============================] - 63s 4ms/step - loss: 0.5509 - accuracy: 0.7156 - val_loss: 0.5322 - val_accuracy: 0.7313 - lr: 4.8828e-05\n",
            "Epoch 111/120\n",
            "15625/15625 [==============================] - 63s 4ms/step - loss: 0.5509 - accuracy: 0.7162 - val_loss: 0.5323 - val_accuracy: 0.7313 - lr: 4.8828e-05\n",
            "Epoch 112/120\n",
            "15625/15625 [==============================] - 64s 4ms/step - loss: 0.5510 - accuracy: 0.7162 - val_loss: 0.5323 - val_accuracy: 0.7313 - lr: 4.8828e-05\n",
            "Epoch 113/120\n",
            "15625/15625 [==============================] - 63s 4ms/step - loss: 0.5509 - accuracy: 0.7156 - val_loss: 0.5322 - val_accuracy: 0.7313 - lr: 2.4414e-05\n",
            "Epoch 114/120\n",
            "15625/15625 [==============================] - 61s 4ms/step - loss: 0.5509 - accuracy: 0.7157 - val_loss: 0.5322 - val_accuracy: 0.7314 - lr: 2.4414e-05\n",
            "Epoch 115/120\n",
            "15625/15625 [==============================] - 64s 4ms/step - loss: 0.5514 - accuracy: 0.7156 - val_loss: 0.5323 - val_accuracy: 0.7313 - lr: 2.4414e-05\n",
            "Epoch 116/120\n",
            "15625/15625 [==============================] - 64s 4ms/step - loss: 0.5510 - accuracy: 0.7160 - val_loss: 0.5322 - val_accuracy: 0.7312 - lr: 2.4414e-05\n",
            "Epoch 117/120\n",
            "15625/15625 [==============================] - 62s 4ms/step - loss: 0.5509 - accuracy: 0.7160 - val_loss: 0.5322 - val_accuracy: 0.7312 - lr: 2.4414e-05\n",
            "Epoch 118/120\n",
            "15625/15625 [==============================] - 61s 4ms/step - loss: 0.5509 - accuracy: 0.7157 - val_loss: 0.5322 - val_accuracy: 0.7313 - lr: 1.2207e-05\n",
            "Epoch 119/120\n",
            "15625/15625 [==============================] - 63s 4ms/step - loss: 0.5510 - accuracy: 0.7156 - val_loss: 0.5322 - val_accuracy: 0.7313 - lr: 1.2207e-05\n",
            "Epoch 120/120\n",
            "15625/15625 [==============================] - 64s 4ms/step - loss: 0.5511 - accuracy: 0.7159 - val_loss: 0.5323 - val_accuracy: 0.7313 - lr: 1.2207e-05\n"
          ]
        }
      ],
      "source": [
        "history = model.fit(codings_train, y_train, epochs=120,\n",
        "                    validation_data=(codings_valid, y_val),\n",
        "                    batch_size=128,\n",
        "                    callbacks=([lr_scheduler],[checkpoint_cb]))"
      ]
    },
    {
      "cell_type": "markdown",
      "metadata": {
        "id": "ofnCY1u1o8qS"
      },
      "source": [
        "### **Predict and generate AUC score**"
      ]
    },
    {
      "cell_type": "markdown",
      "metadata": {
        "id": "0XsKpJ8YQbH0"
      },
      "source": [
        "Predict"
      ]
    },
    {
      "cell_type": "code",
      "execution_count": 15,
      "metadata": {
        "colab": {
          "base_uri": "https://localhost:8080/"
        },
        "id": "S8FTkOikQcAb",
        "outputId": "4962f75f-e2d5-4241-aac0-a9468023d92c"
      },
      "outputs": [
        {
          "output_type": "stream",
          "name": "stdout",
          "text": [
            "7813/7813 [==============================] - 13s 2ms/step\n"
          ]
        }
      ],
      "source": [
        "predictions = model.predict(codings_test)"
      ]
    },
    {
      "cell_type": "markdown",
      "metadata": {
        "id": "DlaRi_hVQf0k"
      },
      "source": [
        "ROC-AUC"
      ]
    },
    {
      "cell_type": "code",
      "execution_count": 16,
      "metadata": {
        "colab": {
          "base_uri": "https://localhost:8080/",
          "height": 472
        },
        "id": "b-KfFbORQh6V",
        "outputId": "5683eeb1-2813-447d-9271-a97ae8e602c7"
      },
      "outputs": [
        {
          "output_type": "display_data",
          "data": {
            "text/plain": [
              "<Figure size 640x480 with 1 Axes>"
            ],
            "image/png": "[encoded data removed]"
          },
          "metadata": {}
        }
      ],
      "source": [
        "from sklearn.metrics import roc_curve\n",
        "from sklearn.metrics import auc\n",
        "fpr_keras, tpr_keras, thresholds_keras = roc_curve(y_test, predictions)\n",
        "auc_keras = auc(fpr_keras, tpr_keras)\n",
        "plt.plot([0, 1], [0, 1], 'k--')\n",
        "plt.plot(fpr_keras, tpr_keras, label='Keras (area = {:.3f})'.format(auc_keras))\n",
        "plt.xlabel('False positive rate')\n",
        "plt.ylabel('True positive rate')\n",
        "plt.title('ROC curve')\n",
        "plt.legend(loc='best')\n",
        "plt.savefig(\"ROC-AUC_PCA_nojets2and4.png\")\n",
        "plt.show()"
      ]
    },
    {
      "cell_type": "markdown",
      "metadata": {
        "id": "zwM4NsnNQoiy"
      },
      "source": [
        "Save model, encoder and AUC figure"
      ]
    },
    {
      "cell_type": "code",
      "execution_count": 17,
      "metadata": {
        "id": "6ujugX6JQp1W"
      },
      "outputs": [],
      "source": [
        "%cp /content/nojets2and4.h5 /content/gdrive/My\\ Drive\n",
        "%cp /content/ROC-AUC_PCA_nojets2and4.png /content/gdrive/My\\ Drive\n",
        "#%cp /content/encoder_name.h5 /content/gdrive/My\\ Drive"
      ]
    }
  ],
  "metadata": {
    "accelerator": "GPU",
    "colab": {
      "provenance": [],
      "include_colab_link": true
    },
    "kernelspec": {
      "display_name": "Python 3",
      "name": "python3"
    },
    "language_info": {
      "name": "python"
    }
  },
  "nbformat": 4,
  "nbformat_minor": 0
}